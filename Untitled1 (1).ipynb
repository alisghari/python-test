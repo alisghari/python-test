{
  "nbformat": 4,
  "nbformat_minor": 0,
  "metadata": {
    "colab": {
      "name": "Untitled1.ipynb",
      "provenance": [],
      "collapsed_sections": []
    },
    "kernelspec": {
      "name": "python3",
      "display_name": "Python 3"
    },
    "language_info": {
      "name": "python"
    }
  },
  "cells": [
    {
      "cell_type": "code",
      "metadata": {
        "colab": {
          "base_uri": "https://localhost:8080/"
        },
        "id": "JJHoj_gRv-rD",
        "outputId": "8c63b0c5-ce0a-4135-949c-90d52c5f2baf"
      },
      "source": [
        "f=input(\"first name: \")\n",
        "l=input (\"last name:\")\n",
        "print(l,f)"
      ],
      "execution_count": null,
      "outputs": [
        {
          "output_type": "stream",
          "name": "stdout",
          "text": [
            "first name: ali\n",
            "last name:sghari\n",
            "sghari ali\n"
          ]
        }
      ]
    },
    {
      "cell_type": "code",
      "metadata": {
        "colab": {
          "base_uri": "https://localhost:8080/"
        },
        "id": "RGodhuX-wKXS",
        "outputId": "07e9cca8-1ed9-4202-8466-83fa458a57aa"
      },
      "source": [
        "n=input(\"input number: \")\n",
        "\n",
        "a=n*3\n",
        "b=n*2\n",
        "c=n*1\n",
        "a=int(a)\n",
        "b= int(b)\n",
        "c=int(c)\n",
        "\n",
        "print(a+b+c)"
      ],
      "execution_count": null,
      "outputs": [
        {
          "output_type": "stream",
          "name": "stdout",
          "text": [
            "input number: 5\n",
            "615\n"
          ]
        }
      ]
    },
    {
      "cell_type": "code",
      "metadata": {
        "colab": {
          "base_uri": "https://localhost:8080/"
        },
        "id": "gFZUJBkr1jt1",
        "outputId": "2045932d-2757-452d-8e74-42d576b25926"
      },
      "source": [
        "a=int(input(\"input number\"))\n",
        "if a/2==True:\n",
        "    print(a,\"est paire\")\n",
        "else:\n",
        "    print(a,\"est impaire\")"
      ],
      "execution_count": null,
      "outputs": [
        {
          "output_type": "stream",
          "name": "stdout",
          "text": [
            "input number548566457893214657\n",
            "548566457893214657 est impaire\n"
          ]
        }
      ]
    },
    {
      "cell_type": "code",
      "metadata": {
        "colab": {
          "base_uri": "https://localhost:8080/"
        },
        "id": "BY1GryAV3BW3",
        "outputId": "1324aa2e-ef1f-4cf1-b704-6d9cde08c51d"
      },
      "source": [
        "for i in range (2000,3201):\n",
        "    a=i%7\n",
        "    b=i%5\n",
        "    if a==0 and b==0:\n",
        "        print(i,\" \",end=\"\")\n"
      ],
      "execution_count": 2,
      "outputs": [
        {
          "output_type": "stream",
          "name": "stdout",
          "text": [
            "2030  2065  2100  2135  2170  2205  2240  2275  2310  2345  2380  2415  2450  2485  2520  2555  2590  2625  2660  2695  2730  2765  2800  2835  2870  2905  2940  2975  3010  3045  3080  3115  3150  3185  "
          ]
        }
      ]
    },
    {
      "cell_type": "code",
      "metadata": {
        "colab": {
          "base_uri": "https://localhost:8080/"
        },
        "id": "UhkUz35C-UbY",
        "outputId": "9e34b5cf-400e-4036-f0a5-04be611c0cc5"
      },
      "source": [
        "while True :\n",
        "  n = int(input('input number : '))\n",
        "  if n>=0:\n",
        "    break\n",
        "a= 1\n",
        "for i in range(1, n+1):\n",
        "  a = a * i\n",
        "print (n,'! = ',a)"
      ],
      "execution_count": null,
      "outputs": [
        {
          "output_type": "stream",
          "name": "stdout",
          "text": [
            "input number : 8\n",
            "8 ! =  40320\n"
          ]
        }
      ]
    },
    {
      "cell_type": "code",
      "metadata": {
        "colab": {
          "base_uri": "https://localhost:8080/"
        },
        "id": "POMnEEDksC5E",
        "outputId": "41615ee3-3ffd-4708-a4ca-6fa64bdb0687"
      },
      "source": [
        "ch=input(\"input text\")\n",
        "\n",
        "for i in range (0,(len(ch)),2):\n",
        "    print(ch[i],end=\"\")\n"
      ],
      "execution_count": null,
      "outputs": [
        {
          "output_type": "stream",
          "name": "stdout",
          "text": [
            "input texthello team\n",
            "hlota"
          ]
        }
      ]
    },
    {
      "cell_type": "code",
      "metadata": {
        "colab": {
          "base_uri": "https://localhost:8080/"
        },
        "id": "vQmSxJ0YUfZw",
        "outputId": "1480fade-bc3d-4f85-96f5-ce1f6f99bd5b"
      },
      "source": [
        "p=int(input(\"input price\"))\n",
        "r=0\n",
        "np=0\n",
        "if p>=500:\n",
        "  r=p/100*50\n",
        "  np=p-r\n",
        "elif 200<=p<500:\n",
        "  r=p/100*30\n",
        "  np=p-r\n",
        "else:\n",
        "  r=p/100*10\n",
        "  np=p-r\n",
        "print(\"new price\",np)"
      ],
      "execution_count": 5,
      "outputs": [
        {
          "output_type": "stream",
          "name": "stdout",
          "text": [
            "input price500\n",
            "350.0\n"
          ]
        }
      ]
    }
  ]
}