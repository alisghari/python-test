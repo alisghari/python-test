{
  "nbformat": 4,
  "nbformat_minor": 0,
  "metadata": {
    "colab": {
      "name": "Untitled1.ipynb",
      "provenance": [],
      "collapsed_sections": []
    },
    "kernelspec": {
      "name": "python3",
      "display_name": "Python 3"
    },
    "language_info": {
      "name": "python"
    }
  },
  "cells": [
    {
      "cell_type": "code",
      "metadata": {
        "colab": {
          "base_uri": "https://localhost:8080/"
        },
        "id": "JJHoj_gRv-rD",
        "outputId": "8c63b0c5-ce0a-4135-949c-90d52c5f2baf"
      },
      "source": [
        "f=input(\"first name: \")\n",
        "l=input (\"last name:\")\n",
        "print(l,f)"
      ],
      "execution_count": 14,
      "outputs": [
        {
          "output_type": "stream",
          "name": "stdout",
          "text": [
            "first name: ali\n",
            "last name:sghari\n",
            "sghari ali\n"
          ]
        }
      ]
    },
    {
      "cell_type": "code",
      "metadata": {
        "colab": {
          "base_uri": "https://localhost:8080/"
        },
        "id": "RGodhuX-wKXS",
        "outputId": "07e9cca8-1ed9-4202-8466-83fa458a57aa"
      },
      "source": [
        "n=input(\"input number: \")\n",
        "\n",
        "a=n*3\n",
        "b=n*2\n",
        "c=n*1\n",
        "a=int(a)\n",
        "b= int(b)\n",
        "c=int(c)\n",
        "\n",
        "print(a+b+c)"
      ],
      "execution_count": 12,
      "outputs": [
        {
          "output_type": "stream",
          "name": "stdout",
          "text": [
            "input number: 5\n",
            "615\n"
          ]
        }
      ]
    },
    {
      "cell_type": "code",
      "metadata": {
        "colab": {
          "base_uri": "https://localhost:8080/"
        },
        "id": "gFZUJBkr1jt1",
        "outputId": "2045932d-2757-452d-8e74-42d576b25926"
      },
      "source": [
        "a=int(input(\"input number\"))\n",
        "if a/2==True:\n",
        "    print(a,\"est paire\")\n",
        "else:\n",
        "    print(a,\"est impaire\")"
      ],
      "execution_count": 10,
      "outputs": [
        {
          "output_type": "stream",
          "name": "stdout",
          "text": [
            "input number548566457893214657\n",
            "548566457893214657 est impaire\n"
          ]
        }
      ]
    },
    {
      "cell_type": "code",
      "metadata": {
        "colab": {
          "base_uri": "https://localhost:8080/"
        },
        "id": "BY1GryAV3BW3",
        "outputId": "c8f6549a-7aea-4234-e1dd-8dc7d01cd2ef"
      },
      "source": [
        "for i in range (2000,3201):\n",
        "    a=i%7\n",
        "    b=i%5\n",
        "    if a==0 and b==0:\n",
        "        print(i)\n"
      ],
      "execution_count": 8,
      "outputs": [
        {
          "output_type": "stream",
          "name": "stdout",
          "text": [
            "2030\n",
            "2065\n",
            "2100\n",
            "2135\n",
            "2170\n",
            "2205\n",
            "2240\n",
            "2275\n",
            "2310\n",
            "2345\n",
            "2380\n",
            "2415\n",
            "2450\n",
            "2485\n",
            "2520\n",
            "2555\n",
            "2590\n",
            "2625\n",
            "2660\n",
            "2695\n",
            "2730\n",
            "2765\n",
            "2800\n",
            "2835\n",
            "2870\n",
            "2905\n",
            "2940\n",
            "2975\n",
            "3010\n",
            "3045\n",
            "3080\n",
            "3115\n",
            "3150\n",
            "3185\n"
          ]
        }
      ]
    },
    {
      "cell_type": "code",
      "metadata": {
        "colab": {
          "base_uri": "https://localhost:8080/"
        },
        "id": "UhkUz35C-UbY",
        "outputId": "9e34b5cf-400e-4036-f0a5-04be611c0cc5"
      },
      "source": [
        "while True :\n",
        "  n = int(input('input number : '))\n",
        "  if n>=0:\n",
        "    break\n",
        "a= 1\n",
        "for i in range(1, n+1):\n",
        "  a = a * i\n",
        "print (n,'! = ',a)"
      ],
      "execution_count": 7,
      "outputs": [
        {
          "output_type": "stream",
          "name": "stdout",
          "text": [
            "input number : 8\n",
            "8 ! =  40320\n"
          ]
        }
      ]
    },
    {
      "cell_type": "code",
      "metadata": {
        "colab": {
          "base_uri": "https://localhost:8080/"
        },
        "id": "POMnEEDksC5E",
        "outputId": "41615ee3-3ffd-4708-a4ca-6fa64bdb0687"
      },
      "source": [
        "ch=input(\"input text\")\n",
        "\n",
        "for i in range (0,(len(ch)),2):\n",
        "    print(ch[i],end=\"\")\n"
      ],
      "execution_count": 6,
      "outputs": [
        {
          "output_type": "stream",
          "name": "stdout",
          "text": [
            "input texthello team\n",
            "hlota"
          ]
        }
      ]
    }
  ]
}